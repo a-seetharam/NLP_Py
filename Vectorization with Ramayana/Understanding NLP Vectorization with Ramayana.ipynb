{
 "cells": [
  {
   "cell_type": "markdown",
   "metadata": {},
   "source": [
    "## Understanding NLP Vectorization: Can it predict the relationships in the great epic of Ramayana?"
   ]
  },
  {
   "cell_type": "markdown",
   "metadata": {},
   "source": [
    "Anyone who's tried their hand at making a computer \"understand\" text, sounds and visuals will tell you how magnificent our brain is! Natural language processing (NLP) is one area which aims to uncover meanings from a human language. It can be from the written word, or spoken language. While at the core the algorithms map variations in the input data structures, written or spoken, to a retrievable index as they learn, the approach taken in the preceding steps is quite different for spoken and written language. In addition, voice data is richer in terms of what it can convey, including mood of the speaker, accent, gender, age bracket, regional influences, stress levels, and possibly even their health condition (ref. https://www.technologyreview.com/s/603200/voice-analysis-tech-could-diagnose-disease/). \n",
    "\n",
    "In both cases, however, we are dealing with messy and unstructured data and, by definition, there's a higher possibility of prediction errors. Nevertheless, NLP models can be very useful and can create excellent real-world applications, some which are already in use e.g. a) digital assistants such as Alexa/Echo, Siri, Google Home/voice, b) online translators, and c) for optimizing search engines in ecommerce and for regional needs. "
   ]
  },
  {
   "cell_type": "markdown",
   "metadata": {},
   "source": [
    "Processing text documents in NLP form typically require the following steps*:\n",
    "\n",
    "* tokenization and lower casing - breaking up long strings of text into smaller pieces. Paragraphs to sentences, sentences to phrases, phrases to words etc.\n",
    "\n",
    "* truncating special charecters and standardizing character sets (e.g. UTF-8)\n",
    "* contraction expansion \n",
    "* eliminating stopwords\n",
    "* stemming\n",
    "* lemmatization\n",
    "\n",
    "(For details refer a quick write up on: https://www.kdnuggets.com/2017/12/general-approach-preprocessing-text-data.html and a more detailed one at: https://www.kdnuggets.com/2018/03/text-data-preprocessing-walkthrough-python.html)\n",
    "\n",
    "The above steps are necessry before building a vector space using a text corpus. "
   ]
  },
  {
   "cell_type": "markdown",
   "metadata": {},
   "source": [
    "One way of analyzing a (large) text matter is to uncover what words of interest are associated with others, and this can be done by building a vector space. A vector space creates an n-dimensional associative map where closely linked words are grouped in a cluster (i.e. the spatial distance between them is shorter). While different methods of building a vector space are available, for this illustration let's use Google's Word2Vec library (a popular alternative is GloVe). \n",
    "\n",
    "Higher dimensions in the vector space increase accuracy and predictability, but are computationally very expensive and a humble desktop/laptop can only be expected to do so much. In order to be more efficient, we can try dimensionality reduction using tSNE (used here, and also to help with visualization) or a suitable alternative. We also limit the word count and keywords so that we can get an output within a reasonable time. However, we should note that this will have an impact on the accuracy. "
   ]
  },
  {
   "cell_type": "markdown",
   "metadata": {},
   "source": [
    "#### A irresponsibly brief background on Ramayana\n",
    "\n",
    "The great epic of Ramayana is an Indian poem originally narrated by sage Valmiki. Ramayana predates Mahabharata, the other great Indian epic, and the \"original\" version is believed to have been written around 2000 years ago (the oral version is believed to be 500 years older). The epic describes the story of Lord Rama, an avatar of God Vishnu, and his life as the ruler of kingdom Kosala.\n",
    "\n",
    "The epic follows the life and duties of Lord Rama as a son of Dasharatha; a prince; husband to Sita; his brothers Lakshmana, Bharatha and Shatrughna; and his rival Ravana, the demon king of Lanka. "
   ]
  },
  {
   "cell_type": "markdown",
   "metadata": {},
   "source": [
    "Note: the algorithmic processing of natural language is always tricky. With pyschological and linguistic studies revealing that most of the meaning is conveyed through non-verbal attributes such as the tone of voice, body language, facial expressions and, perhaps most importantly, the context -capturing these attributes and reducing it to binary processing is extremely complex, not to mention computationally intensive! But even in the face of such odds, the NLP can help us understand a few things quickly, or at least point us in the directions that we need to look or highlight attributes to which we need to pay attention. \n",
    "\n",
    "Even with our brain, with  its extraordinary computational powers, it's easier to glean meanings from prose than poetry. The version of Ramayana used here is closer to its poem structure derived from over 24,000 verses, and this would impact the results. To add to complexity, the same characters are referred to by different names, for instance, Lord Rama also goes by 'Ramachandra', 'Ram', 'Shri Rama', Sita goes by 'Sitae', 'Sitamaa', and Bali goes by 'Vali' etc. These complexities are without accounting for errors in typo. Let's try a simple vectorization exercise on a very complex subject matter. "
   ]
  },
  {
   "cell_type": "markdown",
   "metadata": {},
   "source": [
    "#### Import the commonly used libraries\n",
    "(Note: depending on the version/IDE of python you are using not all the libraries may be required, but it doesn't hurt to import here in our example.)"
   ]
  },
  {
   "cell_type": "code",
   "execution_count": 1,
   "metadata": {},
   "outputs": [],
   "source": [
    "from __future__ import absolute_import, division, print_function"
   ]
  },
  {
   "cell_type": "code",
   "execution_count": 2,
   "metadata": {},
   "outputs": [],
   "source": [
    "#import the typical libraries\n",
    "\n",
    "import numpy as np\n",
    "import matplotlib.pyplot as plt\n",
    "import pandas as pd\n",
    "import seaborn as sns\n",
    "import os #for making changes to the file system in order save and retrive files\n",
    "import pprint #let's use pretty print\n",
    "import re"
   ]
  },
  {
   "cell_type": "code",
   "execution_count": 3,
   "metadata": {},
   "outputs": [
    {
     "name": "stderr",
     "output_type": "stream",
     "text": [
      "D:\\Anaconda3\\lib\\site-packages\\gensim\\utils.py:1197: UserWarning: detected Windows; aliasing chunkize to chunkize_serial\n",
      "  warnings.warn(\"detected Windows; aliasing chunkize to chunkize_serial\")\n"
     ]
    },
    {
     "name": "stdout",
     "output_type": "stream",
     "text": [
      "Populating the interactive namespace from numpy and matplotlib\n"
     ]
    }
   ],
   "source": [
    "# import libraries for enabling NLP\n",
    "\n",
    "import codecs\n",
    "import glob\n",
    "import logging\n",
    "import multiprocessing\n",
    "import nltk\n",
    "import gensim.models.word2vec as w2v\n",
    "import sklearn.manifold\n",
    "%pylab inline"
   ]
  },
  {
   "cell_type": "code",
   "execution_count": 4,
   "metadata": {},
   "outputs": [],
   "source": [
    "logging.basicConfig(format='%(asctime)s : %(levelname)s : %(message)s', level=logging.INFO)"
   ]
  },
  {
   "cell_type": "code",
   "execution_count": 5,
   "metadata": {},
   "outputs": [],
   "source": [
    "#remove the comment and install these nltk libraries if not installed\n",
    "\n",
    "#nltk.download(\"punkt\")\n",
    "#nltk.download(\"stopwords\")"
   ]
  },
  {
   "cell_type": "code",
   "execution_count": 6,
   "metadata": {},
   "outputs": [],
   "source": [
    "book_filenames = sorted(glob.glob(\"data/*.txt\"))"
   ]
  },
  {
   "cell_type": "markdown",
   "metadata": {},
   "source": [
    "For this example I used a simple text version of the Ramayana, transliterated by Hari Prasad Shastri and it was accessed from: https://archive.org/stream/The.Ramayana.of.Valmiki.by.Hari.Prasad.Shastri/The.Ramayana.of.Valmiki.by.Hari.Prasad.Shastri_djvu.txt"
   ]
  },
  {
   "cell_type": "code",
   "execution_count": 7,
   "metadata": {},
   "outputs": [
    {
     "name": "stdout",
     "output_type": "stream",
     "text": [
      "Found books:\n"
     ]
    },
    {
     "data": {
      "text/plain": [
       "['data\\\\Ramayana_by_HP_Shastri.txt']"
      ]
     },
     "execution_count": 7,
     "metadata": {},
     "output_type": "execute_result"
    }
   ],
   "source": [
    "print(\"Found books:\")\n",
    "book_filenames"
   ]
  },
  {
   "cell_type": "code",
   "execution_count": 8,
   "metadata": {},
   "outputs": [
    {
     "name": "stdout",
     "output_type": "stream",
     "text": [
      "Reading 'data\\Ramayana_by_HP_Shastri.txt'...\n",
      "Corpus is now 3591119 characters long\n",
      "\n"
     ]
    }
   ],
   "source": [
    "corpus_raw = u\"\"\n",
    "for book_filename in book_filenames:\n",
    "    print(\"Reading '{0}'...\".format(book_filename))\n",
    "    with codecs.open(book_filename, \"r\", \"utf-8\") as book_file:\n",
    "        corpus_raw += book_file.read()\n",
    "    print(\"Corpus is now {0} characters long\".format(len(corpus_raw)))\n",
    "    print()"
   ]
  },
  {
   "cell_type": "code",
   "execution_count": 9,
   "metadata": {},
   "outputs": [],
   "source": [
    "#note that since it is a flat text file, the size of corpus will be close to the size on disk"
   ]
  },
  {
   "cell_type": "code",
   "execution_count": 10,
   "metadata": {},
   "outputs": [],
   "source": [
    "tokenizer = nltk.data.load('tokenizers/punkt/english.pickle')"
   ]
  },
  {
   "cell_type": "code",
   "execution_count": 11,
   "metadata": {},
   "outputs": [],
   "source": [
    "raw_sentences = tokenizer.tokenize(corpus_raw)"
   ]
  },
  {
   "cell_type": "code",
   "execution_count": 12,
   "metadata": {},
   "outputs": [],
   "source": [
    "#remove unnnecessary characters, punctuations, split into words, eliminate hyphens\n",
    "#create a list of words\n",
    "\n",
    "def sentence_to_wordlist(raw):\n",
    "    clean = re.sub(\"[^a-zA-Z]\",\" \", raw)\n",
    "    words = clean.split()\n",
    "    return words"
   ]
  },
  {
   "cell_type": "code",
   "execution_count": 13,
   "metadata": {},
   "outputs": [],
   "source": [
    "#build a sentence where each word is tokenized\n",
    "sentences = []\n",
    "for raw_sentence in raw_sentences:\n",
    "    if len(raw_sentence) > 0:\n",
    "        sentences.append(sentence_to_wordlist(raw_sentence))"
   ]
  },
  {
   "cell_type": "code",
   "execution_count": 14,
   "metadata": {},
   "outputs": [
    {
     "name": "stdout",
     "output_type": "stream",
     "text": [
      "The deeds of Rama that will be described in the sacred \r\n",
      "poem - - - - - I2 \r\n",
      "4.\n",
      "['The', 'deeds', 'of', 'Rama', 'that', 'will', 'be', 'described', 'in', 'the', 'sacred', 'poem', 'I']\n"
     ]
    }
   ],
   "source": [
    "print(raw_sentences[5])\n",
    "print(sentence_to_wordlist(raw_sentences[5]))"
   ]
  },
  {
   "cell_type": "code",
   "execution_count": 15,
   "metadata": {},
   "outputs": [
    {
     "name": "stdout",
     "output_type": "stream",
     "text": [
      "The book corpus contains 588,392 tokens\n"
     ]
    }
   ],
   "source": [
    "token_count = sum([len(sentence) for sentence in sentences])\n",
    "print(\"The book corpus contains {0:,} tokens\".format(token_count))"
   ]
  },
  {
   "cell_type": "code",
   "execution_count": 16,
   "metadata": {},
   "outputs": [],
   "source": [
    "# we have a corpus that we can vectorize and build a model\n",
    "# vectors will tell us about associations based on similarity, distance, and rank them as per rules\n",
    "\n",
    "\n",
    "# Dimensionality of the resulting word vectors.\n",
    "#more dimensions, more computationally expensive to train but also more accurate\n",
    "#more dimensions = also more generalized, more transferable for a similar inputs\n",
    "num_features = 300\n",
    "# Minimum word count threshold.\n",
    "min_word_count = 3\n",
    "\n",
    "# number of threads to run in parallel\n",
    "# note: not all OS+cpu+driver combinations support multiprocessing in a python env, be careful as to usuage\n",
    "num_workers = multiprocessing.cpu_count()\n",
    "\n",
    "# context window length\n",
    "context_size = 7\n",
    "\n",
    "# Downsample setting for frequent words.\n",
    "#0 - 1e-6 should be good for this, but let's try\n",
    "downsampling = 1e-3\n",
    "\n",
    "# seed for the random number generator, to make the results reproducible\n",
    "seed = 25"
   ]
  },
  {
   "cell_type": "code",
   "execution_count": 17,
   "metadata": {},
   "outputs": [],
   "source": [
    "ramayana2vec = w2v.Word2Vec(\n",
    "    sg=1,\n",
    "    seed=seed,\n",
    "    workers=num_workers,\n",
    "    size=num_features,\n",
    "    min_count=min_word_count,\n",
    "    window=context_size,\n",
    "    sample=downsampling\n",
    ")"
   ]
  },
  {
   "cell_type": "code",
   "execution_count": 18,
   "metadata": {
    "scrolled": true
   },
   "outputs": [
    {
     "name": "stderr",
     "output_type": "stream",
     "text": [
      "2018-06-13 11:12:25,906 : INFO : collecting all words and their counts\n",
      "2018-06-13 11:12:25,932 : INFO : PROGRESS: at sentence #0, processed 0 words, keeping 0 word types\n",
      "2018-06-13 11:12:26,029 : INFO : PROGRESS: at sentence #10000, processed 203925 words, keeping 13922 word types\n",
      "2018-06-13 11:12:26,088 : INFO : PROGRESS: at sentence #20000, processed 429030 words, keeping 20651 word types\n",
      "2018-06-13 11:12:26,189 : INFO : collected 24778 word types from a corpus of 588392 raw words and 28974 sentences\n",
      "2018-06-13 11:12:26,196 : INFO : Loading a fresh vocabulary\n",
      "2018-06-13 11:12:26,253 : INFO : min_count=3 retains 10248 unique words (41% of original 24778, drops 14530)\n",
      "2018-06-13 11:12:26,253 : INFO : min_count=3 leaves 570201 word corpus (96% of original 588392, drops 18191)\n",
      "2018-06-13 11:12:26,329 : INFO : deleting the raw counts dictionary of 24778 items\n",
      "2018-06-13 11:12:26,340 : INFO : sample=0.001 downsamples 44 most-common words\n",
      "2018-06-13 11:12:26,340 : INFO : downsampling leaves estimated 433813 word corpus (76.1% of prior 570201)\n",
      "2018-06-13 11:12:26,406 : INFO : estimated required memory for 10248 words and 300 dimensions: 29719200 bytes\n",
      "2018-06-13 11:12:26,420 : INFO : resetting layer weights\n"
     ]
    }
   ],
   "source": [
    "ramayana2vec.build_vocab(sentences)"
   ]
  },
  {
   "cell_type": "code",
   "execution_count": 19,
   "metadata": {},
   "outputs": [
    {
     "name": "stdout",
     "output_type": "stream",
     "text": [
      "Word2Vec vocabulary length: 10248\n"
     ]
    }
   ],
   "source": [
    "print(\"Word2Vec vocabulary length:\", len(ramayana2vec.wv.vocab))"
   ]
  },
  {
   "cell_type": "markdown",
   "metadata": {},
   "source": [
    "In the interest of computational efficiency, let's just set the number of epochs at 25."
   ]
  },
  {
   "cell_type": "code",
   "execution_count": 28,
   "metadata": {},
   "outputs": [
    {
     "name": "stderr",
     "output_type": "stream",
     "text": [
      "2018-06-13 11:13:45,355 : WARNING : Effective 'alpha' higher than previous training cycles\n",
      "2018-06-13 11:13:45,376 : INFO : training model with 4 workers on 10248 vocabulary and 300 features, using sg=1 hs=0 sample=0.001 negative=5 window=7\n",
      "2018-06-13 11:13:46,477 : INFO : EPOCH 1 - PROGRESS: at 1022.60% examples, 142816 words/s, in_qsize 7, out_qsize 0\n",
      "2018-06-13 11:13:47,481 : INFO : EPOCH 1 - PROGRESS: at 1967.70% examples, 148229 words/s, in_qsize 7, out_qsize 0\n",
      "2018-06-13 11:13:48,119 : INFO : worker thread finished; awaiting finish of 3 more threads\n",
      "2018-06-13 11:13:48,190 : INFO : worker thread finished; awaiting finish of 2 more threads\n",
      "2018-06-13 11:13:48,211 : INFO : worker thread finished; awaiting finish of 1 more threads\n",
      "2018-06-13 11:13:48,222 : INFO : worker thread finished; awaiting finish of 0 more threads\n",
      "2018-06-13 11:13:48,222 : INFO : EPOCH - 1 : training on 588392 raw words (434082 effective words) took 2.8s, 152914 effective words/s\n",
      "2018-06-13 11:13:48,231 : WARNING : EPOCH - 1 : supplied example count (28974) did not equal expected count (1000)\n",
      "2018-06-13 11:13:49,408 : INFO : EPOCH 2 - PROGRESS: at 1022.60% examples, 133442 words/s, in_qsize 7, out_qsize 0\n",
      "2018-06-13 11:13:50,418 : INFO : EPOCH 2 - PROGRESS: at 2062.20% examples, 152554 words/s, in_qsize 7, out_qsize 0\n",
      "2018-06-13 11:13:50,902 : INFO : worker thread finished; awaiting finish of 3 more threads\n",
      "2018-06-13 11:13:50,969 : INFO : worker thread finished; awaiting finish of 2 more threads\n",
      "2018-06-13 11:13:50,988 : INFO : worker thread finished; awaiting finish of 1 more threads\n",
      "2018-06-13 11:13:51,042 : INFO : worker thread finished; awaiting finish of 0 more threads\n",
      "2018-06-13 11:13:51,046 : INFO : EPOCH - 2 : training on 588392 raw words (433692 effective words) took 2.8s, 154242 effective words/s\n",
      "2018-06-13 11:13:51,072 : WARNING : EPOCH - 2 : supplied example count (28974) did not equal expected count (1000)\n",
      "2018-06-13 11:13:52,301 : INFO : EPOCH 3 - PROGRESS: at 1024.70% examples, 135196 words/s, in_qsize 8, out_qsize 0\n",
      "2018-06-13 11:13:53,385 : INFO : EPOCH 3 - PROGRESS: at 2062.20% examples, 148749 words/s, in_qsize 7, out_qsize 0\n",
      "2018-06-13 11:13:53,892 : INFO : worker thread finished; awaiting finish of 3 more threads\n",
      "2018-06-13 11:13:53,950 : INFO : worker thread finished; awaiting finish of 2 more threads\n",
      "2018-06-13 11:13:53,973 : INFO : worker thread finished; awaiting finish of 1 more threads\n",
      "2018-06-13 11:13:53,977 : INFO : worker thread finished; awaiting finish of 0 more threads\n",
      "2018-06-13 11:13:53,977 : INFO : EPOCH - 3 : training on 588392 raw words (434013 effective words) took 2.8s, 153140 effective words/s\n",
      "2018-06-13 11:13:53,990 : WARNING : EPOCH - 3 : supplied example count (28974) did not equal expected count (1000)\n",
      "2018-06-13 11:13:55,040 : INFO : EPOCH 4 - PROGRESS: at 905.20% examples, 127488 words/s, in_qsize 7, out_qsize 0\n",
      "2018-06-13 11:13:56,088 : INFO : EPOCH 4 - PROGRESS: at 1934.00% examples, 145115 words/s, in_qsize 7, out_qsize 0\n",
      "2018-06-13 11:13:56,853 : INFO : worker thread finished; awaiting finish of 3 more threads\n",
      "2018-06-13 11:13:56,876 : INFO : worker thread finished; awaiting finish of 2 more threads\n",
      "2018-06-13 11:13:56,910 : INFO : worker thread finished; awaiting finish of 1 more threads\n",
      "2018-06-13 11:13:56,938 : INFO : worker thread finished; awaiting finish of 0 more threads\n",
      "2018-06-13 11:13:56,976 : INFO : EPOCH - 4 : training on 588392 raw words (433920 effective words) took 3.0s, 145930 effective words/s\n",
      "2018-06-13 11:13:56,988 : WARNING : EPOCH - 4 : supplied example count (28974) did not equal expected count (1000)\n",
      "2018-06-13 11:13:58,279 : INFO : EPOCH 5 - PROGRESS: at 1022.60% examples, 137764 words/s, in_qsize 7, out_qsize 0\n",
      "2018-06-13 11:13:59,321 : INFO : EPOCH 5 - PROGRESS: at 1966.50% examples, 142754 words/s, in_qsize 7, out_qsize 0\n",
      "2018-06-13 11:13:59,902 : INFO : worker thread finished; awaiting finish of 3 more threads\n",
      "2018-06-13 11:13:59,983 : INFO : worker thread finished; awaiting finish of 2 more threads\n",
      "2018-06-13 11:14:00,004 : INFO : worker thread finished; awaiting finish of 1 more threads\n",
      "2018-06-13 11:14:00,012 : INFO : worker thread finished; awaiting finish of 0 more threads\n",
      "2018-06-13 11:14:00,014 : INFO : EPOCH - 5 : training on 588392 raw words (433655 effective words) took 2.9s, 151520 effective words/s\n",
      "2018-06-13 11:14:00,018 : WARNING : EPOCH - 5 : supplied example count (28974) did not equal expected count (1000)\n",
      "2018-06-13 11:14:01,206 : INFO : EPOCH 6 - PROGRESS: at 1022.60% examples, 145328 words/s, in_qsize 7, out_qsize 0\n",
      "2018-06-13 11:14:02,276 : INFO : EPOCH 6 - PROGRESS: at 2062.20% examples, 155614 words/s, in_qsize 7, out_qsize 0\n",
      "2018-06-13 11:14:02,795 : INFO : worker thread finished; awaiting finish of 3 more threads\n",
      "2018-06-13 11:14:02,867 : INFO : worker thread finished; awaiting finish of 2 more threads\n",
      "2018-06-13 11:14:02,890 : INFO : worker thread finished; awaiting finish of 1 more threads\n",
      "2018-06-13 11:14:02,890 : INFO : worker thread finished; awaiting finish of 0 more threads\n",
      "2018-06-13 11:14:02,890 : INFO : EPOCH - 6 : training on 588392 raw words (433755 effective words) took 2.8s, 157092 effective words/s\n",
      "2018-06-13 11:14:02,910 : WARNING : EPOCH - 6 : supplied example count (28974) did not equal expected count (1000)\n",
      "2018-06-13 11:14:03,925 : INFO : EPOCH 7 - PROGRESS: at 746.60% examples, 110436 words/s, in_qsize 7, out_qsize 0\n",
      "2018-06-13 11:14:04,938 : INFO : EPOCH 7 - PROGRESS: at 1629.60% examples, 121111 words/s, in_qsize 7, out_qsize 0\n",
      "2018-06-13 11:14:05,959 : INFO : EPOCH 7 - PROGRESS: at 2414.20% examples, 133583 words/s, in_qsize 4, out_qsize 0\n",
      "2018-06-13 11:14:05,981 : INFO : worker thread finished; awaiting finish of 3 more threads\n",
      "2018-06-13 11:14:06,116 : INFO : worker thread finished; awaiting finish of 2 more threads\n",
      "2018-06-13 11:14:06,134 : INFO : worker thread finished; awaiting finish of 1 more threads\n",
      "2018-06-13 11:14:06,134 : INFO : worker thread finished; awaiting finish of 0 more threads\n",
      "2018-06-13 11:14:06,150 : INFO : EPOCH - 7 : training on 588392 raw words (434073 effective words) took 3.2s, 134295 effective words/s\n",
      "2018-06-13 11:14:06,186 : WARNING : EPOCH - 7 : supplied example count (28974) did not equal expected count (1000)\n",
      "2018-06-13 11:14:07,367 : INFO : EPOCH 8 - PROGRESS: at 1022.60% examples, 142384 words/s, in_qsize 6, out_qsize 1\n",
      "2018-06-13 11:14:08,384 : INFO : EPOCH 8 - PROGRESS: at 2030.40% examples, 153937 words/s, in_qsize 8, out_qsize 0\n",
      "2018-06-13 11:14:08,909 : INFO : worker thread finished; awaiting finish of 3 more threads\n",
      "2018-06-13 11:14:08,932 : INFO : worker thread finished; awaiting finish of 2 more threads\n",
      "2018-06-13 11:14:08,948 : INFO : worker thread finished; awaiting finish of 1 more threads\n",
      "2018-06-13 11:14:08,994 : INFO : worker thread finished; awaiting finish of 0 more threads\n",
      "2018-06-13 11:14:09,004 : INFO : EPOCH - 8 : training on 588392 raw words (434353 effective words) took 2.7s, 159088 effective words/s\n",
      "2018-06-13 11:14:09,017 : WARNING : EPOCH - 8 : supplied example count (28974) did not equal expected count (1000)\n",
      "2018-06-13 11:14:10,137 : INFO : EPOCH 9 - PROGRESS: at 1022.60% examples, 143194 words/s, in_qsize 8, out_qsize 0\n",
      "2018-06-13 11:14:11,204 : INFO : EPOCH 9 - PROGRESS: at 2062.20% examples, 154133 words/s, in_qsize 7, out_qsize 0\n",
      "2018-06-13 11:14:11,730 : INFO : worker thread finished; awaiting finish of 3 more threads\n",
      "2018-06-13 11:14:11,839 : INFO : worker thread finished; awaiting finish of 2 more threads\n",
      "2018-06-13 11:14:11,849 : INFO : worker thread finished; awaiting finish of 1 more threads\n",
      "2018-06-13 11:14:11,862 : INFO : worker thread finished; awaiting finish of 0 more threads\n",
      "2018-06-13 11:14:11,868 : INFO : EPOCH - 9 : training on 588392 raw words (433640 effective words) took 2.8s, 153927 effective words/s\n",
      "2018-06-13 11:14:11,870 : WARNING : EPOCH - 9 : supplied example count (28974) did not equal expected count (1000)\n",
      "2018-06-13 11:14:13,022 : INFO : EPOCH 10 - PROGRESS: at 1022.60% examples, 147512 words/s, in_qsize 7, out_qsize 0\n",
      "2018-06-13 11:14:14,058 : INFO : EPOCH 10 - PROGRESS: at 2062.20% examples, 158972 words/s, in_qsize 7, out_qsize 0\n",
      "2018-06-13 11:14:14,547 : INFO : worker thread finished; awaiting finish of 3 more threads\n"
     ]
    },
    {
     "name": "stderr",
     "output_type": "stream",
     "text": [
      "2018-06-13 11:14:14,611 : INFO : worker thread finished; awaiting finish of 2 more threads\n",
      "2018-06-13 11:14:14,634 : INFO : worker thread finished; awaiting finish of 1 more threads\n",
      "2018-06-13 11:14:14,647 : INFO : worker thread finished; awaiting finish of 0 more threads\n",
      "2018-06-13 11:14:14,647 : INFO : EPOCH - 10 : training on 588392 raw words (433973 effective words) took 2.7s, 161846 effective words/s\n",
      "2018-06-13 11:14:14,647 : WARNING : EPOCH - 10 : supplied example count (28974) did not equal expected count (1000)\n",
      "2018-06-13 11:14:15,720 : INFO : EPOCH 11 - PROGRESS: at 872.00% examples, 122181 words/s, in_qsize 8, out_qsize 0\n",
      "2018-06-13 11:14:16,754 : INFO : EPOCH 11 - PROGRESS: at 1868.70% examples, 139865 words/s, in_qsize 7, out_qsize 0\n",
      "2018-06-13 11:14:17,569 : INFO : worker thread finished; awaiting finish of 3 more threads\n",
      "2018-06-13 11:14:17,587 : INFO : worker thread finished; awaiting finish of 2 more threads\n",
      "2018-06-13 11:14:17,595 : INFO : worker thread finished; awaiting finish of 1 more threads\n",
      "2018-06-13 11:14:17,606 : INFO : worker thread finished; awaiting finish of 0 more threads\n",
      "2018-06-13 11:14:17,609 : INFO : EPOCH - 11 : training on 588392 raw words (433784 effective words) took 2.9s, 148882 effective words/s\n",
      "2018-06-13 11:14:17,613 : WARNING : EPOCH - 11 : supplied example count (28974) did not equal expected count (1000)\n",
      "2018-06-13 11:14:18,759 : INFO : EPOCH 12 - PROGRESS: at 1022.60% examples, 148345 words/s, in_qsize 7, out_qsize 0\n",
      "2018-06-13 11:14:19,792 : INFO : EPOCH 12 - PROGRESS: at 2000.20% examples, 152475 words/s, in_qsize 7, out_qsize 0\n",
      "2018-06-13 11:14:20,529 : INFO : worker thread finished; awaiting finish of 3 more threads\n",
      "2018-06-13 11:14:20,652 : INFO : worker thread finished; awaiting finish of 2 more threads\n",
      "2018-06-13 11:14:20,687 : INFO : worker thread finished; awaiting finish of 1 more threads\n",
      "2018-06-13 11:14:20,729 : INFO : worker thread finished; awaiting finish of 0 more threads\n",
      "2018-06-13 11:14:20,773 : INFO : EPOCH - 12 : training on 588392 raw words (433855 effective words) took 3.1s, 141907 effective words/s\n",
      "2018-06-13 11:14:20,783 : WARNING : EPOCH - 12 : supplied example count (28974) did not equal expected count (1000)\n",
      "2018-06-13 11:14:21,975 : INFO : EPOCH 13 - PROGRESS: at 872.00% examples, 108769 words/s, in_qsize 7, out_qsize 0\n",
      "2018-06-13 11:14:22,987 : INFO : EPOCH 13 - PROGRESS: at 1686.10% examples, 116540 words/s, in_qsize 8, out_qsize 0\n",
      "2018-06-13 11:14:24,057 : INFO : EPOCH 13 - PROGRESS: at 2271.00% examples, 116491 words/s, in_qsize 7, out_qsize 0\n",
      "2018-06-13 11:14:24,372 : INFO : worker thread finished; awaiting finish of 3 more threads\n",
      "2018-06-13 11:14:24,424 : INFO : worker thread finished; awaiting finish of 2 more threads\n",
      "2018-06-13 11:14:24,461 : INFO : worker thread finished; awaiting finish of 1 more threads\n",
      "2018-06-13 11:14:24,549 : INFO : worker thread finished; awaiting finish of 0 more threads\n",
      "2018-06-13 11:14:24,616 : INFO : EPOCH - 13 : training on 588392 raw words (433801 effective words) took 3.8s, 114645 effective words/s\n",
      "2018-06-13 11:14:24,641 : WARNING : EPOCH - 13 : supplied example count (28974) did not equal expected count (1000)\n",
      "2018-06-13 11:14:25,829 : INFO : EPOCH 14 - PROGRESS: at 872.00% examples, 118630 words/s, in_qsize 7, out_qsize 0\n",
      "2018-06-13 11:14:26,859 : INFO : EPOCH 14 - PROGRESS: at 1934.00% examples, 144904 words/s, in_qsize 7, out_qsize 0\n",
      "2018-06-13 11:14:27,546 : INFO : worker thread finished; awaiting finish of 3 more threads\n",
      "2018-06-13 11:14:27,617 : INFO : worker thread finished; awaiting finish of 2 more threads\n",
      "2018-06-13 11:14:27,641 : INFO : worker thread finished; awaiting finish of 1 more threads\n",
      "2018-06-13 11:14:27,657 : INFO : worker thread finished; awaiting finish of 0 more threads\n",
      "2018-06-13 11:14:27,665 : INFO : EPOCH - 14 : training on 588392 raw words (433760 effective words) took 2.9s, 150069 effective words/s\n",
      "2018-06-13 11:14:27,668 : WARNING : EPOCH - 14 : supplied example count (28974) did not equal expected count (1000)\n",
      "2018-06-13 11:14:28,760 : INFO : EPOCH 15 - PROGRESS: at 1022.60% examples, 144308 words/s, in_qsize 8, out_qsize 0\n",
      "2018-06-13 11:14:29,779 : INFO : EPOCH 15 - PROGRESS: at 2000.20% examples, 151417 words/s, in_qsize 7, out_qsize 0\n",
      "2018-06-13 11:14:30,377 : INFO : worker thread finished; awaiting finish of 3 more threads\n",
      "2018-06-13 11:14:30,440 : INFO : worker thread finished; awaiting finish of 2 more threads\n",
      "2018-06-13 11:14:30,497 : INFO : worker thread finished; awaiting finish of 1 more threads\n",
      "2018-06-13 11:14:30,503 : INFO : worker thread finished; awaiting finish of 0 more threads\n",
      "2018-06-13 11:14:30,503 : INFO : EPOCH - 15 : training on 588392 raw words (434305 effective words) took 2.8s, 153887 effective words/s\n",
      "2018-06-13 11:14:30,503 : WARNING : EPOCH - 15 : supplied example count (28974) did not equal expected count (1000)\n",
      "2018-06-13 11:14:31,551 : INFO : EPOCH 16 - PROGRESS: at 872.00% examples, 120958 words/s, in_qsize 7, out_qsize 0\n",
      "2018-06-13 11:14:32,589 : INFO : EPOCH 16 - PROGRESS: at 1838.20% examples, 135568 words/s, in_qsize 7, out_qsize 0\n",
      "2018-06-13 11:14:33,383 : INFO : worker thread finished; awaiting finish of 3 more threads\n",
      "2018-06-13 11:14:33,399 : INFO : worker thread finished; awaiting finish of 2 more threads\n",
      "2018-06-13 11:14:33,444 : INFO : worker thread finished; awaiting finish of 1 more threads\n",
      "2018-06-13 11:14:33,468 : INFO : worker thread finished; awaiting finish of 0 more threads\n",
      "2018-06-13 11:14:33,482 : INFO : EPOCH - 16 : training on 588392 raw words (433679 effective words) took 3.0s, 146417 effective words/s\n",
      "2018-06-13 11:14:33,494 : WARNING : EPOCH - 16 : supplied example count (28974) did not equal expected count (1000)\n",
      "2018-06-13 11:14:34,560 : INFO : EPOCH 17 - PROGRESS: at 1022.60% examples, 147226 words/s, in_qsize 7, out_qsize 0\n",
      "2018-06-13 11:14:35,597 : INFO : EPOCH 17 - PROGRESS: at 2000.20% examples, 151834 words/s, in_qsize 8, out_qsize 0\n",
      "2018-06-13 11:14:36,158 : INFO : worker thread finished; awaiting finish of 3 more threads\n",
      "2018-06-13 11:14:36,185 : INFO : worker thread finished; awaiting finish of 2 more threads\n",
      "2018-06-13 11:14:36,213 : INFO : worker thread finished; awaiting finish of 1 more threads\n",
      "2018-06-13 11:14:36,264 : INFO : worker thread finished; awaiting finish of 0 more threads\n",
      "2018-06-13 11:14:36,284 : INFO : EPOCH - 17 : training on 588392 raw words (433527 effective words) took 2.8s, 156205 effective words/s\n",
      "2018-06-13 11:14:36,302 : WARNING : EPOCH - 17 : supplied example count (28974) did not equal expected count (1000)\n",
      "2018-06-13 11:14:37,462 : INFO : EPOCH 18 - PROGRESS: at 1024.70% examples, 144007 words/s, in_qsize 7, out_qsize 0\n",
      "2018-06-13 11:14:38,463 : INFO : EPOCH 18 - PROGRESS: at 2062.20% examples, 159417 words/s, in_qsize 7, out_qsize 0\n",
      "2018-06-13 11:14:38,986 : INFO : worker thread finished; awaiting finish of 3 more threads\n",
      "2018-06-13 11:14:39,000 : INFO : worker thread finished; awaiting finish of 2 more threads\n",
      "2018-06-13 11:14:39,011 : INFO : worker thread finished; awaiting finish of 1 more threads\n",
      "2018-06-13 11:14:39,020 : INFO : worker thread finished; awaiting finish of 0 more threads\n",
      "2018-06-13 11:14:39,024 : INFO : EPOCH - 18 : training on 588392 raw words (433825 effective words) took 2.6s, 164164 effective words/s\n",
      "2018-06-13 11:14:39,024 : WARNING : EPOCH - 18 : supplied example count (28974) did not equal expected count (1000)\n",
      "2018-06-13 11:14:40,148 : INFO : EPOCH 19 - PROGRESS: at 1024.70% examples, 143223 words/s, in_qsize 7, out_qsize 0\n",
      "2018-06-13 11:14:41,191 : INFO : EPOCH 19 - PROGRESS: at 2062.20% examples, 156644 words/s, in_qsize 8, out_qsize 0\n",
      "2018-06-13 11:14:41,667 : INFO : worker thread finished; awaiting finish of 3 more threads\n",
      "2018-06-13 11:14:41,729 : INFO : worker thread finished; awaiting finish of 2 more threads\n",
      "2018-06-13 11:14:41,748 : INFO : worker thread finished; awaiting finish of 1 more threads\n",
      "2018-06-13 11:14:41,758 : INFO : worker thread finished; awaiting finish of 0 more threads\n",
      "2018-06-13 11:14:41,763 : INFO : EPOCH - 19 : training on 588392 raw words (433525 effective words) took 2.7s, 160608 effective words/s\n",
      "2018-06-13 11:14:41,765 : WARNING : EPOCH - 19 : supplied example count (28974) did not equal expected count (1000)\n"
     ]
    },
    {
     "name": "stderr",
     "output_type": "stream",
     "text": [
      "2018-06-13 11:14:42,868 : INFO : EPOCH 20 - PROGRESS: at 1022.60% examples, 148290 words/s, in_qsize 7, out_qsize 0\n",
      "2018-06-13 11:14:43,879 : INFO : EPOCH 20 - PROGRESS: at 2062.20% examples, 161361 words/s, in_qsize 7, out_qsize 0\n",
      "2018-06-13 11:14:44,397 : INFO : worker thread finished; awaiting finish of 3 more threads\n",
      "2018-06-13 11:14:44,413 : INFO : worker thread finished; awaiting finish of 2 more threads\n",
      "2018-06-13 11:14:44,421 : INFO : worker thread finished; awaiting finish of 1 more threads\n",
      "2018-06-13 11:14:44,474 : INFO : worker thread finished; awaiting finish of 0 more threads\n",
      "2018-06-13 11:14:44,493 : INFO : EPOCH - 20 : training on 588392 raw words (434015 effective words) took 2.7s, 162582 effective words/s\n",
      "2018-06-13 11:14:44,501 : WARNING : EPOCH - 20 : supplied example count (28974) did not equal expected count (1000)\n",
      "2018-06-13 11:14:45,676 : INFO : EPOCH 21 - PROGRESS: at 1022.60% examples, 144867 words/s, in_qsize 7, out_qsize 0\n",
      "2018-06-13 11:14:46,720 : INFO : EPOCH 21 - PROGRESS: at 2000.20% examples, 149521 words/s, in_qsize 7, out_qsize 0\n",
      "2018-06-13 11:14:47,363 : INFO : worker thread finished; awaiting finish of 3 more threads\n",
      "2018-06-13 11:14:47,376 : INFO : worker thread finished; awaiting finish of 2 more threads\n",
      "2018-06-13 11:14:47,385 : INFO : worker thread finished; awaiting finish of 1 more threads\n",
      "2018-06-13 11:14:47,469 : INFO : worker thread finished; awaiting finish of 0 more threads\n",
      "2018-06-13 11:14:47,483 : INFO : EPOCH - 21 : training on 588392 raw words (433752 effective words) took 2.9s, 150592 effective words/s\n",
      "2018-06-13 11:14:47,490 : WARNING : EPOCH - 21 : supplied example count (28974) did not equal expected count (1000)\n",
      "2018-06-13 11:14:48,533 : INFO : EPOCH 22 - PROGRESS: at 872.00% examples, 120611 words/s, in_qsize 7, out_qsize 0\n",
      "2018-06-13 11:14:49,559 : INFO : EPOCH 22 - PROGRESS: at 1838.20% examples, 135963 words/s, in_qsize 7, out_qsize 0\n",
      "2018-06-13 11:14:50,389 : INFO : worker thread finished; awaiting finish of 3 more threads\n",
      "2018-06-13 11:14:50,445 : INFO : worker thread finished; awaiting finish of 2 more threads\n",
      "2018-06-13 11:14:50,479 : INFO : worker thread finished; awaiting finish of 1 more threads\n",
      "2018-06-13 11:14:50,489 : INFO : worker thread finished; awaiting finish of 0 more threads\n",
      "2018-06-13 11:14:50,494 : INFO : EPOCH - 22 : training on 588392 raw words (434076 effective words) took 3.0s, 144555 effective words/s\n",
      "2018-06-13 11:14:50,502 : WARNING : EPOCH - 22 : supplied example count (28974) did not equal expected count (1000)\n",
      "2018-06-13 11:14:51,669 : INFO : EPOCH 23 - PROGRESS: at 1022.60% examples, 136993 words/s, in_qsize 8, out_qsize 1\n",
      "2018-06-13 11:14:52,678 : INFO : EPOCH 23 - PROGRESS: at 2030.40% examples, 151494 words/s, in_qsize 7, out_qsize 0\n",
      "2018-06-13 11:14:53,280 : INFO : worker thread finished; awaiting finish of 3 more threads\n",
      "2018-06-13 11:14:53,371 : INFO : worker thread finished; awaiting finish of 2 more threads\n",
      "2018-06-13 11:14:53,439 : INFO : worker thread finished; awaiting finish of 1 more threads\n",
      "2018-06-13 11:14:53,475 : INFO : worker thread finished; awaiting finish of 0 more threads\n",
      "2018-06-13 11:14:53,503 : INFO : EPOCH - 23 : training on 588392 raw words (434022 effective words) took 3.0s, 146074 effective words/s\n",
      "2018-06-13 11:14:53,522 : WARNING : EPOCH - 23 : supplied example count (28974) did not equal expected count (1000)\n",
      "2018-06-13 11:14:54,809 : INFO : EPOCH 24 - PROGRESS: at 1022.60% examples, 136869 words/s, in_qsize 7, out_qsize 0\n",
      "2018-06-13 11:14:55,848 : INFO : EPOCH 24 - PROGRESS: at 1967.70% examples, 142669 words/s, in_qsize 7, out_qsize 0\n",
      "2018-06-13 11:14:56,694 : INFO : worker thread finished; awaiting finish of 3 more threads\n",
      "2018-06-13 11:14:56,801 : INFO : worker thread finished; awaiting finish of 2 more threads\n",
      "2018-06-13 11:14:56,820 : INFO : worker thread finished; awaiting finish of 1 more threads\n",
      "2018-06-13 11:14:56,826 : INFO : worker thread finished; awaiting finish of 0 more threads\n",
      "2018-06-13 11:14:56,826 : INFO : EPOCH - 24 : training on 588392 raw words (434048 effective words) took 3.2s, 137570 effective words/s\n",
      "2018-06-13 11:14:56,833 : WARNING : EPOCH - 24 : supplied example count (28974) did not equal expected count (1000)\n",
      "2018-06-13 11:14:57,961 : INFO : EPOCH 25 - PROGRESS: at 836.10% examples, 113079 words/s, in_qsize 8, out_qsize 0\n",
      "2018-06-13 11:14:59,001 : INFO : EPOCH 25 - PROGRESS: at 1596.70% examples, 113795 words/s, in_qsize 7, out_qsize 0\n",
      "2018-06-13 11:15:00,036 : INFO : EPOCH 25 - PROGRESS: at 2164.40% examples, 113707 words/s, in_qsize 8, out_qsize 0\n",
      "2018-06-13 11:15:00,496 : INFO : worker thread finished; awaiting finish of 3 more threads\n",
      "2018-06-13 11:15:00,587 : INFO : worker thread finished; awaiting finish of 2 more threads\n",
      "2018-06-13 11:15:00,605 : INFO : worker thread finished; awaiting finish of 1 more threads\n",
      "2018-06-13 11:15:00,617 : INFO : worker thread finished; awaiting finish of 0 more threads\n",
      "2018-06-13 11:15:00,617 : INFO : EPOCH - 25 : training on 588392 raw words (433769 effective words) took 3.7s, 117343 effective words/s\n",
      "2018-06-13 11:15:00,621 : WARNING : EPOCH - 25 : supplied example count (28974) did not equal expected count (1000)\n",
      "2018-06-13 11:15:00,625 : INFO : training on a 14709800 raw words (10846899 effective words) took 75.2s, 144153 effective words/s\n"
     ]
    },
    {
     "name": "stdout",
     "output_type": "stream",
     "text": [
      "Wall time: 1min 15s\n"
     ]
    },
    {
     "data": {
      "text/plain": [
       "(10846899, 14709800)"
      ]
     },
     "execution_count": 28,
     "metadata": {},
     "output_type": "execute_result"
    }
   ],
   "source": [
    "%%time\n",
    "ramayana2vec.train(sentences, total_examples=1000, epochs=25)"
   ]
  },
  {
   "cell_type": "code",
   "execution_count": 29,
   "metadata": {},
   "outputs": [],
   "source": [
    "#save files for later use\n",
    "\n",
    "if not os.path.exists(\"trained\"):\n",
    "    os.makedirs(\"trained\")"
   ]
  },
  {
   "cell_type": "code",
   "execution_count": 30,
   "metadata": {},
   "outputs": [
    {
     "name": "stderr",
     "output_type": "stream",
     "text": [
      "2018-06-13 11:15:01,117 : INFO : saving Word2Vec object under trained\\ramayana2vec.w2v, separately None\n",
      "2018-06-13 11:15:01,152 : INFO : not storing attribute vectors_norm\n",
      "2018-06-13 11:15:01,176 : INFO : not storing attribute cum_table\n",
      "2018-06-13 11:15:02,078 : INFO : saved trained\\ramayana2vec.w2v\n"
     ]
    }
   ],
   "source": [
    "ramayana2vec.save(os.path.join(\"trained\", \"ramayana2vec.w2v\"))"
   ]
  },
  {
   "cell_type": "code",
   "execution_count": 31,
   "metadata": {},
   "outputs": [
    {
     "name": "stderr",
     "output_type": "stream",
     "text": [
      "2018-06-13 11:15:02,158 : INFO : loading Word2Vec object from trained\\ramayana2vec.w2v\n",
      "2018-06-13 11:15:02,558 : INFO : loading wv recursively from trained\\ramayana2vec.w2v.wv.* with mmap=None\n",
      "2018-06-13 11:15:02,565 : INFO : setting ignored attribute vectors_norm to None\n",
      "2018-06-13 11:15:02,578 : INFO : loading vocabulary recursively from trained\\ramayana2vec.w2v.vocabulary.* with mmap=None\n",
      "2018-06-13 11:15:02,585 : INFO : loading trainables recursively from trained\\ramayana2vec.w2v.trainables.* with mmap=None\n",
      "2018-06-13 11:15:02,588 : INFO : setting ignored attribute cum_table to None\n",
      "2018-06-13 11:15:02,591 : INFO : loaded trained\\ramayana2vec.w2v\n"
     ]
    }
   ],
   "source": [
    "ramayana2vec = w2v.Word2Vec.load(os.path.join(\"trained\", \"ramayana2vec.w2v\"))"
   ]
  },
  {
   "cell_type": "code",
   "execution_count": 32,
   "metadata": {},
   "outputs": [],
   "source": [
    "tsne = sklearn.manifold.TSNE(n_components=2, random_state=42)"
   ]
  },
  {
   "cell_type": "code",
   "execution_count": 33,
   "metadata": {},
   "outputs": [
    {
     "name": "stderr",
     "output_type": "stream",
     "text": [
      "D:\\Anaconda3\\lib\\site-packages\\ipykernel_launcher.py:1: DeprecationWarning: Call to deprecated `syn0_lockf` (Attribute will be removed in 4.0.0, use self.trainables.vectors_lockf instead).\n",
      "  \"\"\"Entry point for launching an IPython kernel.\n"
     ]
    }
   ],
   "source": [
    "all_word_vectors_matrix = ramayana2vec.syn0_lockf"
   ]
  },
  {
   "cell_type": "code",
   "execution_count": 34,
   "metadata": {},
   "outputs": [
    {
     "data": {
      "text/plain": [
       "(10248,)"
      ]
     },
     "execution_count": 34,
     "metadata": {},
     "output_type": "execute_result"
    }
   ],
   "source": [
    "all_word_vectors_matrix.shape"
   ]
  },
  {
   "cell_type": "code",
   "execution_count": 35,
   "metadata": {},
   "outputs": [],
   "source": [
    "all_word_vectors_matrix = all_word_vectors_matrix.reshape(-1,1)"
   ]
  },
  {
   "cell_type": "code",
   "execution_count": 36,
   "metadata": {},
   "outputs": [
    {
     "name": "stdout",
     "output_type": "stream",
     "text": [
      "Wall time: 13min 3s\n"
     ]
    }
   ],
   "source": [
    "%%time\n",
    "all_word_vectors_matrix_2d = tsne.fit_transform(all_word_vectors_matrix)"
   ]
  },
  {
   "cell_type": "code",
   "execution_count": 37,
   "metadata": {},
   "outputs": [],
   "source": [
    "points = pd.DataFrame(\n",
    "    [\n",
    "        (word, coords[0], coords[1])\n",
    "        for word, coords in [\n",
    "            (word, all_word_vectors_matrix_2d[ramayana2vec.wv.vocab[word].index])\n",
    "            for word in ramayana2vec.wv.vocab\n",
    "        ]\n",
    "    ],\n",
    "    columns=[\"word\", \"x\", \"y\"]\n",
    ")"
   ]
  },
  {
   "cell_type": "code",
   "execution_count": 38,
   "metadata": {},
   "outputs": [
    {
     "data": {
      "text/html": [
       "<div>\n",
       "<style scoped>\n",
       "    .dataframe tbody tr th:only-of-type {\n",
       "        vertical-align: middle;\n",
       "    }\n",
       "\n",
       "    .dataframe tbody tr th {\n",
       "        vertical-align: top;\n",
       "    }\n",
       "\n",
       "    .dataframe thead th {\n",
       "        text-align: right;\n",
       "    }\n",
       "</style>\n",
       "<table border=\"1\" class=\"dataframe\">\n",
       "  <thead>\n",
       "    <tr style=\"text-align: right;\">\n",
       "      <th></th>\n",
       "      <th>word</th>\n",
       "      <th>x</th>\n",
       "      <th>y</th>\n",
       "    </tr>\n",
       "  </thead>\n",
       "  <tbody>\n",
       "    <tr>\n",
       "      <th>0</th>\n",
       "      <td>THE</td>\n",
       "      <td>-0.052345</td>\n",
       "      <td>0.197577</td>\n",
       "    </tr>\n",
       "    <tr>\n",
       "      <th>1</th>\n",
       "      <td>RAMAYANA</td>\n",
       "      <td>0.253481</td>\n",
       "      <td>1.894847</td>\n",
       "    </tr>\n",
       "    <tr>\n",
       "      <th>2</th>\n",
       "      <td>OF</td>\n",
       "      <td>-0.052419</td>\n",
       "      <td>0.197607</td>\n",
       "    </tr>\n",
       "    <tr>\n",
       "      <th>3</th>\n",
       "      <td>VALMIKI</td>\n",
       "      <td>-0.052430</td>\n",
       "      <td>0.197309</td>\n",
       "    </tr>\n",
       "    <tr>\n",
       "      <th>4</th>\n",
       "      <td>Translated</td>\n",
       "      <td>-0.216910</td>\n",
       "      <td>0.437822</td>\n",
       "    </tr>\n",
       "    <tr>\n",
       "      <th>5</th>\n",
       "      <td>by</td>\n",
       "      <td>-0.052366</td>\n",
       "      <td>0.197577</td>\n",
       "    </tr>\n",
       "    <tr>\n",
       "      <th>6</th>\n",
       "      <td>I</td>\n",
       "      <td>-0.052419</td>\n",
       "      <td>0.197607</td>\n",
       "    </tr>\n",
       "    <tr>\n",
       "      <th>7</th>\n",
       "      <td>PRASAD</td>\n",
       "      <td>0.124398</td>\n",
       "      <td>-0.054907</td>\n",
       "    </tr>\n",
       "    <tr>\n",
       "      <th>8</th>\n",
       "      <td>SHASTRI</td>\n",
       "      <td>1.696134</td>\n",
       "      <td>0.531670</td>\n",
       "    </tr>\n",
       "    <tr>\n",
       "      <th>9</th>\n",
       "      <td>Vol</td>\n",
       "      <td>-1.720391</td>\n",
       "      <td>0.822883</td>\n",
       "    </tr>\n",
       "  </tbody>\n",
       "</table>\n",
       "</div>"
      ],
      "text/plain": [
       "         word         x         y\n",
       "0         THE -0.052345  0.197577\n",
       "1    RAMAYANA  0.253481  1.894847\n",
       "2          OF -0.052419  0.197607\n",
       "3     VALMIKI -0.052430  0.197309\n",
       "4  Translated -0.216910  0.437822\n",
       "5          by -0.052366  0.197577\n",
       "6           I -0.052419  0.197607\n",
       "7      PRASAD  0.124398 -0.054907\n",
       "8     SHASTRI  1.696134  0.531670\n",
       "9         Vol -1.720391  0.822883"
      ]
     },
     "execution_count": 38,
     "metadata": {},
     "output_type": "execute_result"
    }
   ],
   "source": [
    "points.head(10)"
   ]
  },
  {
   "cell_type": "code",
   "execution_count": 39,
   "metadata": {},
   "outputs": [],
   "source": [
    "sns.set_context(\"poster\")"
   ]
  },
  {
   "cell_type": "code",
   "execution_count": 40,
   "metadata": {},
   "outputs": [
    {
     "data": {
      "text/plain": [
       "<matplotlib.axes._subplots.AxesSubplot at 0x1925e1ce668>"
      ]
     },
     "execution_count": 40,
     "metadata": {},
     "output_type": "execute_result"
    },
    {
     "data": {
      "image/png": "[encoded data removed]",
      "text/plain": [
       "<Figure size 1440x864 with 1 Axes>"
      ]
     },
     "metadata": {},
     "output_type": "display_data"
    }
   ],
   "source": [
    "points.plot.scatter(\"x\", \"y\", s=10, figsize=(20, 12))"
   ]
  },
  {
   "cell_type": "code",
   "execution_count": 41,
   "metadata": {},
   "outputs": [
    {
     "name": "stderr",
     "output_type": "stream",
     "text": [
      "D:\\Anaconda3\\lib\\site-packages\\ipykernel_launcher.py:1: DeprecationWarning: Call to deprecated `most_similar` (Method will be removed in 4.0.0, use self.wv.most_similar() instead).\n",
      "  \"\"\"Entry point for launching an IPython kernel.\n",
      "2018-06-13 11:32:17,362 : INFO : precomputing L2-norms of word weight vectors\n"
     ]
    },
    {
     "data": {
      "text/plain": [
       "[('occupies', 0.47525739669799805),\n",
       " ('Fears', 0.4622487425804138),\n",
       " ('pacifies', 0.45550546050071716),\n",
       " ('De', 0.45201197266578674),\n",
       " ('Shat', 0.4504045844078064),\n",
       " ('Lak', 0.4482352137565613),\n",
       " ('Recollecting', 0.4425639510154724),\n",
       " ('Sarama', 0.44195541739463806),\n",
       " ('Shri', 0.4397425949573517),\n",
       " ('illusory', 0.4385651648044586)]"
      ]
     },
     "execution_count": 41,
     "metadata": {},
     "output_type": "execute_result"
    }
   ],
   "source": [
    "ramayana2vec.most_similar(\"Rama\")"
   ]
  },
  {
   "cell_type": "code",
   "execution_count": 42,
   "metadata": {},
   "outputs": [
    {
     "name": "stderr",
     "output_type": "stream",
     "text": [
      "D:\\Anaconda3\\lib\\site-packages\\ipykernel_launcher.py:1: DeprecationWarning: Call to deprecated `most_similar` (Method will be removed in 4.0.0, use self.wv.most_similar() instead).\n",
      "  \"\"\"Entry point for launching an IPython kernel.\n"
     ]
    },
    {
     "data": {
      "text/plain": [
       "[('Princess', 0.4795403480529785),\n",
       " ('princess', 0.47040629386901855),\n",
       " ('Maithili', 0.4614635705947876),\n",
       " ('Videha', 0.4443039000034332),\n",
       " ('blameless', 0.429771363735199),\n",
       " ('Assistance', 0.4257064759731293),\n",
       " ('Jatayu', 0.42254748940467834),\n",
       " ('description', 0.4180765151977539),\n",
       " ('breaks', 0.4130616784095764),\n",
       " ('Vaidehi', 0.4119434356689453)]"
      ]
     },
     "execution_count": 42,
     "metadata": {},
     "output_type": "execute_result"
    }
   ],
   "source": [
    "ramayana2vec.most_similar(\"Sita\")"
   ]
  },
  {
   "cell_type": "code",
   "execution_count": 43,
   "metadata": {},
   "outputs": [
    {
     "name": "stderr",
     "output_type": "stream",
     "text": [
      "D:\\Anaconda3\\lib\\site-packages\\ipykernel_launcher.py:1: DeprecationWarning: Call to deprecated `most_similar` (Method will be removed in 4.0.0, use self.wv.most_similar() instead).\n",
      "  \"\"\"Entry point for launching an IPython kernel.\n"
     ]
    },
    {
     "data": {
      "text/plain": [
       "[('Kumbhakarna', 0.5657420754432678),\n",
       " ('Meghanada', 0.5108330249786377),\n",
       " ('Dashagriva', 0.48514994978904724),\n",
       " ('Titans', 0.4683111608028412),\n",
       " ('Lanka', 0.46707653999328613),\n",
       " ('resumes', 0.46599385142326355),\n",
       " ('Khara', 0.45328447222709656),\n",
       " ('Titan', 0.4418676495552063),\n",
       " ('Jatayu', 0.4415109157562256),\n",
       " ('Oana', 0.43874526023864746)]"
      ]
     },
     "execution_count": 43,
     "metadata": {},
     "output_type": "execute_result"
    }
   ],
   "source": [
    "ramayana2vec.most_similar(\"Ravana\")"
   ]
  },
  {
   "cell_type": "code",
   "execution_count": 44,
   "metadata": {},
   "outputs": [],
   "source": [
    "def nearest_similarity_cosmul(start1, end1, end2):\n",
    "    similarities = ramayana2vec.most_similar_cosmul(\n",
    "        positive=[end2, start1],\n",
    "        negative=[end1]\n",
    "    )\n",
    "    start2 = similarities[0][0]\n",
    "    print(\"{start1} is related to {end1}, as {start2} is related to {end2}\".format(**locals()))\n",
    "    return start2"
   ]
  },
  {
   "cell_type": "code",
   "execution_count": 46,
   "metadata": {},
   "outputs": [
    {
     "name": "stdout",
     "output_type": "stream",
     "text": [
      "Rama is related to Sita, as Dundubhi is related to Bali\n",
      "\n",
      "\n",
      "Rama is related to Hanuman, as undeviating is related to faith\n",
      "\n",
      "\n",
      "Rama is related to Lakshmana, as Meghanada is related to Ravana\n"
     ]
    },
    {
     "name": "stderr",
     "output_type": "stream",
     "text": [
      "D:\\Anaconda3\\lib\\site-packages\\ipykernel_launcher.py:4: DeprecationWarning: Call to deprecated `most_similar_cosmul` (Method will be removed in 4.0.0, use self.wv.most_similar_cosmul() instead).\n",
      "  after removing the cwd from sys.path.\n"
     ]
    },
    {
     "data": {
      "text/plain": [
       "'Meghanada'"
      ]
     },
     "execution_count": 46,
     "metadata": {},
     "output_type": "execute_result"
    }
   ],
   "source": [
    "nearest_similarity_cosmul(\"Rama\", \"Sita\", \"Bali\")\n",
    "print('\\n')\n",
    "nearest_similarity_cosmul(\"Rama\", \"Hanuman\", \"faith\")\n",
    "print('\\n')\n",
    "nearest_similarity_cosmul(\"Rama\", \"Lakshmana\", \"Ravana\")"
   ]
  },
  {
   "cell_type": "markdown",
   "metadata": {},
   "source": [
    "#### 1\n",
    "In the literature, Rama is husband to Sita. We would expect the model to indicate that 'Bali' is related in the same way to 'Tara', his wife. However, the model shows 'Dundubhi' is similar to Bali, which is an error. (In the literature Dundubhi was a demon who lived in a mountainous region.)\n",
    "\n",
    "#### 2\n",
    "Hanuman is a friend and devotee of Lord Rama. Lord Hanuman is a god incarnate in the avatar of a monkey and possesses great strength and an army of followers. In the epic, Hanuman's loyalty, faith and devotion to Rama is tested on many occations. \n",
    "\n",
    "The model shows very good association between 'undeviating' and 'faith' and is similar to Hanuman's relationship with Rama.\n",
    "\n",
    "#### 3\n",
    "Rama and Lakshmana are brothers. The model finds similarity between 'Ravana' and 'Meghanada' on the same lines. In the epic, although Ravana has brothers, Meghanada is a demon in the kingdom of Ravana. "
   ]
  },
  {
   "cell_type": "markdown",
   "metadata": {},
   "source": [
    "(This illustration is inspired by Yuriy Guts' post.)"
   ]
  },
  {
   "cell_type": "markdown",
   "metadata": {},
   "source": []
  }
 ],
 "metadata": {
  "kernelspec": {
   "display_name": "Python 3",
   "language": "python",
   "name": "python3"
  },
  "language_info": {
   "codemirror_mode": {
    "name": "ipython",
    "version": 3
   },
   "file_extension": ".py",
   "mimetype": "text/x-python",
   "name": "python",
   "nbconvert_exporter": "python",
   "pygments_lexer": "ipython3",
   "version": "3.6.5"
  }
 },
 "nbformat": 4,
 "nbformat_minor": 2
}
